{
 "cells": [
  {
   "cell_type": "markdown",
   "id": "5b60cacd",
   "metadata": {},
   "source": [
    "# Imports"
   ]
  },
  {
   "cell_type": "code",
   "execution_count": null,
   "id": "e43e2c9e",
   "metadata": {},
   "outputs": [],
   "source": [
    "import rasterio\n",
    "import geopandas as gpd\n",
    "from rasterio.features import rasterize\n",
    "from sklearn.model_selection import train_test_split\n",
    "import numpy as np\n",
    "import matplotlib.pyplot as plt\n",
    "import random"
   ]
  },
  {
   "cell_type": "code",
   "execution_count": null,
   "id": "79a1d656-3ae7-41db-8b57-88225f11a33a",
   "metadata": {},
   "outputs": [],
   "source": [
    "# import tensorflow as tf"
   ]
  },
  {
   "cell_type": "code",
   "execution_count": null,
   "id": "b35887d9-9454-44f2-82b4-bb0ba7dc4b30",
   "metadata": {},
   "outputs": [],
   "source": [
    "# from tensorflow.keras.models import Sequential, Model, load_model\n",
    "# from tensorflow.keras.layers import Conv2D, MaxPooling2D, Flatten, Dense, Input, MaxPooling2D, Dropout, Conv2DTranspose, concatenate\n",
    "# from tensorflow.keras import layers, models, optimizers, losses, metrics\n",
    "# from tensorflow.keras.callbacks import ModelCheckpoint\n",
    "# from tensorflow.keras import backend as K"
   ]
  },
  {
   "cell_type": "code",
   "execution_count": null,
   "id": "af1f2ad9-7810-4a91-b107-b46fc474650d",
   "metadata": {},
   "outputs": [],
   "source": [
    "def read_and_rasterize_image(tif_path, shape_file_path):\n",
    "    with rasterio.open(tif_path) as src:\n",
    "        image = src.read([1, 2, 3])  # Reading the first three bands (assuming RGB)\n",
    "        transform = src.transform\n",
    "\n",
    "    # Read the shapefile\n",
    "    shapes = gpd.read_file(shape_file_path)\n",
    "\n",
    "    # Rasterize the shapefile to create a mask\n",
    "    mask = rasterize(\n",
    "        [(shape, 1) for shape in shapes.geometry],\n",
    "        out_shape=image[0].shape,\n",
    "        transform=transform,\n",
    "        fill=0,\n",
    "        all_touched=True,\n",
    "        dtype='uint8'\n",
    "    )\n",
    "    \n",
    "\n",
    "    # Normalize the image\n",
    "    image = image / 255.0\n",
    "    return image.transpose((1, 2, 0)), mask"
   ]
  },
  {
   "cell_type": "code",
   "execution_count": null,
   "id": "2deb0580-a2a4-42fa-9924-b64bf169e945",
   "metadata": {},
   "outputs": [],
   "source": [
    "shape_file_path = \"2022_129000_458000_RGB_hrl.gpkg\"\n",
    "tif_path = \"nl_8cm/2022_129000_458000_RGB_hrl.tif\""
   ]
  },
  {
   "cell_type": "code",
   "execution_count": null,
   "id": "bb285d1c-90ba-4684-91a7-dfe43902e6df",
   "metadata": {},
   "outputs": [],
   "source": [
    "image, mask = read_and_rasterize_image(tif_path, shape_file_path)"
   ]
  },
  {
   "cell_type": "code",
   "execution_count": null,
   "id": "2ddf57cb-ec46-4240-a9b5-ba425aa2ca38",
   "metadata": {},
   "outputs": [],
   "source": [
    "fig, ax = plt.subplots(1, 2, figsize=(10, 5))\n",
    "ax[0].imshow(image, cmap='gray')\n",
    "ax[0].set_title('Image')\n",
    "ax[1].imshow(mask, cmap='gray')\n",
    "ax[1].set_title('Mask')\n",
    "plt.show()"
   ]
  },
  {
   "cell_type": "code",
   "execution_count": null,
   "id": "2edbaf08-bc2e-4d2c-8e6e-1fc2cbc71557",
   "metadata": {},
   "outputs": [],
   "source": [
    "def divide_into_patches(image, mask, patch_size):\n",
    "    \"\"\"\n",
    "    Divides an image and its mask into smaller patches.\n",
    "\n",
    "    Parameters:\n",
    "    - image: The image to be divided (numpy array).\n",
    "    - mask: The corresponding mask for the image (numpy array).\n",
    "    - patch_size: The size of each patch (tuple of two integers).\n",
    "\n",
    "    Returns:\n",
    "    - image_patches: A list of image patches.\n",
    "    - mask_patches: A list of mask patches.\n",
    "    \"\"\"\n",
    "    # Ensure the input dimensions are compatible\n",
    "    assert image.shape[0:2] == mask.shape[0:2], \"Image and mask must have the same dimensions\"\n",
    "    \n",
    "    # Calculate the number of patches along each dimension\n",
    "    patches_along_height = image.shape[0] // patch_size[0]\n",
    "    patches_along_width = image.shape[1] // patch_size[1]\n",
    "\n",
    "    image_patches = []\n",
    "    mask_patches = []\n",
    "\n",
    "    for i in range(patches_along_height):\n",
    "        for j in range(patches_along_width):\n",
    "            # Calculate patch coordinates\n",
    "            start_row = i * patch_size[0]\n",
    "            end_row = start_row + patch_size[0]\n",
    "            start_col = j * patch_size[1]\n",
    "            end_col = start_col + patch_size[1]\n",
    "\n",
    "            # Extract patches\n",
    "            image_patch = image[start_row:end_row, start_col:end_col]\n",
    "            mask_patch = mask[start_row:end_row, start_col:end_col]\n",
    "\n",
    "            image_patches.append(image_patch)\n",
    "            mask_patches.append(mask_patch)\n",
    "\n",
    "    return image_patches, mask_patches"
   ]
  },
  {
   "cell_type": "code",
   "execution_count": null,
   "id": "16bd8cb9-9d58-4f29-86d2-e105f0ff04e9",
   "metadata": {},
   "outputs": [],
   "source": [
    "# Desired patch size (height, width)\n",
    "patch_size = (256, 256)\n",
    "\n",
    "# Divide the image and mask into patches\n",
    "# image_patches, mask_patches = divide_into_patches(image, mask, patch_size)\n",
    "image_patches, mask_patches = image.reshape((-1, 500, 500)), mask.reshape((-1,500,500))\n",
    "\n",
    "print(f\"Number of image patches: {len(image_patches)}\")\n",
    "print(f\"Number of mask patches: {len(mask_patches)}\")"
   ]
  },
  {
   "cell_type": "code",
   "execution_count": null,
   "id": "8647051a-5832-4dec-bb64-4401e43a48da",
   "metadata": {},
   "outputs": [],
   "source": [
    "fig, ax = plt.subplots(1, 2, figsize=(10, 5))\n",
    "ax[0].imshow(image_patches[41], cmap='gray')\n",
    "ax[0].set_title('Image')\n",
    "ax[1].imshow(mask_patches[41], cmap='gray')\n",
    "ax[1].set_title('Mask')\n",
    "plt.show()"
   ]
  },
  {
   "cell_type": "code",
   "execution_count": null,
   "id": "eb2eacc0-593e-41e7-b312-3646cbf1074e",
   "metadata": {},
   "outputs": [],
   "source": [
    "X_train, X_test, y_train, y_test = train_test_split(image_patches, mask_patches, test_size=0.2, random_state=42)"
   ]
  },
  {
   "cell_type": "code",
   "execution_count": null,
   "id": "10148500-5761-446c-aaad-c9f5c809e3a2",
   "metadata": {},
   "outputs": [],
   "source": [
    "X_train = np.array(X_train)\n",
    "y_train = np.array(y_train)\n",
    "\n",
    "X_test = np.array(X_test)\n",
    "y_test = np.array(y_test)"
   ]
  },
  {
   "cell_type": "code",
   "execution_count": null,
   "id": "8e5b149a-d90f-499c-8edd-3da30e18005a",
   "metadata": {},
   "outputs": [],
   "source": [
    "# X_train = X_train[:55, :, :, :]\n",
    "# y_train = y_train[:55, :, :]"
   ]
  },
  {
   "cell_type": "code",
   "execution_count": null,
   "id": "ce66f897-cb68-481c-ab94-54fbf72a9513",
   "metadata": {},
   "outputs": [],
   "source": [
    "X_train.shape"
   ]
  },
  {
   "cell_type": "code",
   "execution_count": null,
   "id": "8895fed2-c7bc-408b-bd4c-78616d059c21",
   "metadata": {},
   "outputs": [],
   "source": [
    "def conv_block(inputs, num_filters):\n",
    "    x = layers.Conv2D(num_filters, 3, padding=\"same\")(inputs)\n",
    "    x = layers.BatchNormalization()(x)\n",
    "    x = tf.keras.activations.relu(x)\n",
    "    x = layers.Conv2D(num_filters, 3, padding=\"same\")(x)\n",
    "    x = layers.BatchNormalization()(x)\n",
    "    x = tf.keras.activations.relu(x)\n",
    "    return x\n",
    "\n",
    "def downsample_block(inputs, num_filters):\n",
    "    x = conv_block(inputs, num_filters)\n",
    "    p = layers.MaxPooling2D((2, 2))(x)\n",
    "    return x, p\n",
    "\n",
    "def upsample_block(inputs, skip_features, num_filters):\n",
    "    x = layers.Conv2DTranspose(num_filters, (2, 2), strides=2, padding=\"same\")(inputs)\n",
    "    x = layers.Concatenate()([x, skip_features])\n",
    "    x = conv_block(x, num_filters)\n",
    "    return x\n",
    "\n",
    "def build_unet(input_shape):\n",
    "    inputs = layers.Input(input_shape)\n",
    "\n",
    "    s1, p1 = downsample_block(inputs, 50)\n",
    "    s2, p2 = downsample_block(p1, 100)\n",
    "    s3, p3 = downsample_block(p2, 250)\n",
    "\n",
    "    b = conv_block(p3, 512)\n",
    "\n",
    "    d1 = upsample_block(b, s3, 250)\n",
    "    d2 = upsample_block(d1, s2, 100)\n",
    "    d3 = upsample_block(d2, s1, 50)\n",
    "\n",
    "    outputs = layers.Conv2D(1, (1, 1), padding=\"same\", activation=\"sigmoid\")(d3)\n",
    "\n",
    "    model = models.Model(inputs, outputs, name=\"U-Net\")\n",
    "    return model\n",
    "\n",
    "input_shape = (500, 500, 3)  # Example input shape, adjust to your needs\n",
    "model = build_unet(input_shape)"
   ]
  },
  {
   "cell_type": "code",
   "execution_count": null,
   "id": "a52013c6-d215-4373-97f2-396e1c89c4bc",
   "metadata": {},
   "outputs": [],
   "source": [
    "model.compile(optimizer=optimizers.Adam(), \n",
    "              loss=losses.BinaryCrossentropy(), \n",
    "              metrics=[metrics.BinaryAccuracy()])\n",
    "# Vervang met iou"
   ]
  },
  {
   "cell_type": "code",
   "execution_count": null,
   "id": "8194535e-0910-4cc1-b7d2-f62a2229afd9",
   "metadata": {},
   "outputs": [],
   "source": [
    "model_checkpoint_callback = ModelCheckpoint(\n",
    "    filepath=\"model.keras\",\n",
    "    save_weights_only=False,  # Set to True to save only weights, False to save the whole model\n",
    "    monitor='val_loss',\n",
    "    mode='min',\n",
    "    save_best_only=True,\n",
    "    verbose=1)  # Log a message whenever the model is saved"
   ]
  },
  {
   "cell_type": "code",
   "execution_count": null,
   "id": "8702f13d-1f49-4ec4-8114-ed066e513e56",
   "metadata": {},
   "outputs": [],
   "source": [
    "# Now, include this callback in your model.fit() call\n",
    "history = model.fit(\n",
    "    X_train, y_train,\n",
    "    epochs=15,\n",
    "    batch_size=5,\n",
    "    validation_split=0.25,\n",
    "    callbacks=[model_checkpoint_callback],  # Include the callback here\n",
    "    verbose=1)"
   ]
  },
  {
   "cell_type": "code",
   "execution_count": null,
   "id": "0b1d39a7-5e3c-4ab9-92d8-0a325d558ea6",
   "metadata": {},
   "outputs": [],
   "source": [
    "# Extracting the history of training and validation loss\n",
    "loss = history.history['loss']\n",
    "val_loss = history.history['val_loss']\n",
    "\n",
    "# Extracting the history of training and validation accuracy\n",
    "# Note: Replace 'accuracy' with 'acc' if your Keras version uses 'acc' instead\n",
    "accuracy = history.history['binary_accuracy']\n",
    "val_accuracy = history.history['val_binary_accuracy']\n",
    "\n",
    "# Setting up the subplot for loss\n",
    "plt.figure(figsize=(12, 5))\n",
    "\n",
    "plt.subplot(1, 2, 1)\n",
    "plt.plot(loss, label='Training Loss')\n",
    "plt.plot(val_loss, label='Validation Loss')\n",
    "plt.title('Training and Validation Loss')\n",
    "plt.xlabel('Epochs')\n",
    "plt.ylabel('Loss')\n",
    "plt.legend()\n",
    "\n",
    "# Setting up the subplot for accuracy\n",
    "plt.subplot(1, 2, 2)\n",
    "plt.plot(accuracy, label='Training Accuracy')\n",
    "plt.plot(val_accuracy, label='Validation Accuracy')\n",
    "plt.title('Training and Validation Accuracy')\n",
    "plt.xlabel('Epochs')\n",
    "plt.ylabel('Accuracy')\n",
    "plt.legend()\n",
    "\n",
    "plt.show()"
   ]
  },
  {
   "cell_type": "code",
   "execution_count": null,
   "id": "7bb68089-7425-4702-9e19-1eb6b23f15c2",
   "metadata": {},
   "outputs": [],
   "source": [
    "# Load the saved model from the file\n",
    "model = load_model('model.keras')"
   ]
  },
  {
   "cell_type": "code",
   "execution_count": null,
   "id": "2012cd35-ad72-4349-871f-9eb9d4e53781",
   "metadata": {},
   "outputs": [],
   "source": [
    "y_pred = model.predict(X_test)"
   ]
  },
  {
   "cell_type": "code",
   "execution_count": null,
   "id": "5c70dcf7-5a03-4a31-942d-41ec3e1b3418",
   "metadata": {},
   "outputs": [],
   "source": [
    "fig, ax = plt.subplots(1, 3, figsize=(10, 5))\n",
    "\n",
    "id_ = random.randint(0, X_test.shape[0])\n",
    "\n",
    "ax[0].imshow(X_test[id_], cmap='gray')\n",
    "ax[0].set_title('Image')\n",
    "ax[1].imshow(y_test[id_], cmap='gray')\n",
    "ax[1].set_title('Mask')\n",
    "ax[2].imshow(y_pred[id_], cmap='gray')\n",
    "ax[2].set_title('Pred')\n",
    "plt.show()"
   ]
  }
 ],
 "metadata": {
  "kernelspec": {
   "display_name": "Python 3 (ipykernel)",
   "language": "python",
   "name": "python3"
  },
  "language_info": {
   "codemirror_mode": {
    "name": "ipython",
    "version": 3
   },
   "file_extension": ".py",
   "mimetype": "text/x-python",
   "name": "python",
   "nbconvert_exporter": "python",
   "pygments_lexer": "ipython3",
   "version": "3.11.7"
  }
 },
 "nbformat": 4,
 "nbformat_minor": 5
}
