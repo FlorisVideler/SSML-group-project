{
 "cells": [
  {
   "cell_type": "code",
   "execution_count": 1,
   "id": "d5072b7e-cc7b-42b7-b0dc-082a6a8d4bf3",
   "metadata": {},
   "outputs": [],
   "source": [
    "import requests\n",
    "from datetime import datetime\n",
    "from tqdm import tqdm\n",
    "import warnings\n",
    "warnings.filterwarnings(\"ignore\")"
   ]
  },
  {
   "cell_type": "code",
   "execution_count": 2,
   "id": "ef7f0903-ce41-448a-8ada-689d040b14d6",
   "metadata": {},
   "outputs": [],
   "source": [
    "def download_tif(url):\n",
    "    response = requests.get(url, verify=False)\n",
    "    filename = url.split(\"/\")[-1]\n",
    "    if response.status_code == 200:\n",
    "        with open(f\"nl_8cm/{filename}\", 'wb') as f:\n",
    "            f.write(response.content)\n",
    "    else:\n",
    "        print(f\"{datetime.now()} {url} failed\")"
   ]
  },
  {
   "cell_type": "code",
   "execution_count": 3,
   "id": "d73c87cb-b66c-4a08-bc79-e5baa85c87e3",
   "metadata": {},
   "outputs": [
    {
     "name": "stderr",
     "output_type": "stream",
     "text": [
      "100%|████████████████████████████████████████████████████████████████████████████████████████████████████████████████████████████████████████████████████████████████████████████████| 11/11 [07:30<00:00, 40.99s/it]\n"
     ]
    }
   ],
   "source": [
    "for x in tqdm(range(128000, 139000, 1000)):\n",
    "    for y in range(453000, 459000, 1000):\n",
    "        url = f\"https://ns_hwh.fundaments.nl/hwh-ortho/2022/Ortho/1/04/beelden_tif_tegels/2022_{x}_{y}_RGB_hrl.tif\"\n",
    "        download_tif(url)"
   ]
  },
  {
   "cell_type": "code",
   "execution_count": null,
   "id": "09d18a21-c42f-4086-bb26-b5e73759ad41",
   "metadata": {},
   "outputs": [],
   "source": []
  }
 ],
 "metadata": {
  "kernelspec": {
   "display_name": "Python 3 (ipykernel)",
   "language": "python",
   "name": "python3"
  },
  "language_info": {
   "codemirror_mode": {
    "name": "ipython",
    "version": 3
   },
   "file_extension": ".py",
   "mimetype": "text/x-python",
   "name": "python",
   "nbconvert_exporter": "python",
   "pygments_lexer": "ipython3",
   "version": "3.11.7"
  }
 },
 "nbformat": 4,
 "nbformat_minor": 5
}
