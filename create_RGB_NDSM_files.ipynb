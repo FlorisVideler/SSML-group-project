{
 "cells": [
  {
   "cell_type": "markdown",
   "id": "5b60cacd",
   "metadata": {},
   "source": [
    "# Imports"
   ]
  },
  {
   "cell_type": "code",
   "execution_count": 1,
   "id": "e43e2c9e",
   "metadata": {},
   "outputs": [],
   "source": [
    "import rasterio\n",
    "import geopandas as gpd\n",
    "from rasterio.features import rasterize\n",
    "from sklearn.model_selection import train_test_split\n",
    "import numpy as np\n",
    "import matplotlib.pyplot as plt\n",
    "import random\n",
    "from tqdm import tqdm\n",
    "\n",
    "import xarray\n",
    "import glob\n",
    "from PIL import Image\n",
    "from rioxarray.merge import merge_arrays\n",
    "import rioxarray\n",
    "import matplotlib.pyplot as plt"
   ]
  },
  {
   "cell_type": "code",
   "execution_count": 2,
   "id": "80ebd8a8-b1f8-4412-944c-1f4a71bff3c0",
   "metadata": {},
   "outputs": [],
   "source": [
    "from zipfile import ZipFile\n",
    "from io import BytesIO"
   ]
  },
  {
   "cell_type": "code",
   "execution_count": 3,
   "id": "56e70f55-85d0-4f5e-a986-049b39f0d905",
   "metadata": {},
   "outputs": [],
   "source": [
    "import os\n",
    "import requests\n",
    "from datetime import datetime"
   ]
  },
  {
   "cell_type": "code",
   "execution_count": 4,
   "id": "f013795d-069c-44d4-ab7e-00ace66af17a",
   "metadata": {},
   "outputs": [],
   "source": [
    "import warnings\n",
    "warnings.filterwarnings(\"ignore\")"
   ]
  },
  {
   "cell_type": "code",
   "execution_count": 5,
   "id": "f052d5ad-143d-4ec2-92b4-84217e6c4425",
   "metadata": {},
   "outputs": [],
   "source": [
    "def download_tif(url, dir_path):\n",
    "    response = requests.get(url, verify=False)\n",
    "    if response.status_code == 200:\n",
    "        with ZipFile(BytesIO(response.content)) as zip_ref:\n",
    "            # Loop through each file in the zip\n",
    "            for zip_info in zip_ref.infolist():\n",
    "                # Extract only files, ignore directories\n",
    "                if not zip_info.is_dir():\n",
    "                    # Use the file name only, ignoring any directory paths in the zip file\n",
    "                    zip_info.filename = os.path.basename(zip_info.filename)\n",
    "                    # Extract the file with the new path\n",
    "                    zip_ref.extract(zip_info.filename, path=dir_path) \n",
    "    else:\n",
    "        print(f\"{datetime.now()} {url} failed\")"
   ]
  },
  {
   "cell_type": "code",
   "execution_count": 6,
   "id": "9bb56e07-553c-4bc0-9c95-f8b48e721033",
   "metadata": {},
   "outputs": [],
   "source": [
    "current_dir = os.getcwd()\n",
    "DSM_dir_path = current_dir + r\"\\DSM\"\n",
    "DTM_dir_path = current_dir + r\"\\DTM\"\n",
    "RGB_NDSM_dir_path = current_dir + r\"\\RGB_NDSM\""
   ]
  },
  {
   "cell_type": "code",
   "execution_count": 7,
   "id": "4f4e77bf-f71b-49f3-8aa4-dd2d014b2d47",
   "metadata": {},
   "outputs": [],
   "source": [
    "def create_dir(path):\n",
    "    # Check if the directory exists\n",
    "    if not os.path.exists(path):\n",
    "        # Create the directory if it does not exist\n",
    "        os.makedirs(path)\n",
    "        print(f\"Directory '{path}' was created.\")\n",
    "    else:\n",
    "        print(f\"Directory '{path}' already exists.\")"
   ]
  },
  {
   "cell_type": "code",
   "execution_count": 8,
   "id": "cff7290f-1278-403a-a31b-66bb51a0a806",
   "metadata": {},
   "outputs": [
    {
     "name": "stdout",
     "output_type": "stream",
     "text": [
      "Directory 'C:\\Users\\Niels\\PycharmProjects\\SSML-group-project\\DSM' already exists.\n",
      "Directory 'C:\\Users\\Niels\\PycharmProjects\\SSML-group-project\\DTM' already exists.\n",
      "Directory 'C:\\Users\\Niels\\PycharmProjects\\SSML-group-project\\RGB_NDSM' already exists.\n"
     ]
    }
   ],
   "source": [
    "create_dir(DSM_dir_path)\n",
    "create_dir(DTM_dir_path)\n",
    "create_dir(RGB_NDSM_dir_path)"
   ]
  },
  {
   "cell_type": "code",
   "execution_count": 9,
   "id": "10e2e3c5-558a-435c-af48-8dc31c23063b",
   "metadata": {},
   "outputs": [],
   "source": [
    "DSM_files = [\"https://ns_hwh.fundaments.nl/hwh-ahn/ahn4/03a_DSM_0.5m/R_31GN2.zip\",\n",
    "                \"https://ns_hwh.fundaments.nl/hwh-ahn/ahn4/03a_DSM_0.5m/R_31HN1.zip\",\n",
    "                \"https://ns_hwh.fundaments.nl/hwh-ahn/ahn4/03a_DSM_0.5m/R_31HN2.zip\",\n",
    "                \"https://ns_hwh.fundaments.nl/hwh-ahn/ahn4/03a_DSM_0.5m/R_32CN1.zip\",\n",
    "                \"https://ns_hwh.fundaments.nl/hwh-ahn/ahn4/03a_DSM_0.5m/R_31GZ2.zip\",\n",
    "                \"https://ns_hwh.fundaments.nl/hwh-ahn/ahn4/03a_DSM_0.5m/R_31HZ1.zip\",\n",
    "                \"https://ns_hwh.fundaments.nl/hwh-ahn/ahn4/03a_DSM_0.5m/R_31HZ2.zip\",\n",
    "                \"https://ns_hwh.fundaments.nl/hwh-ahn/ahn4/03a_DSM_0.5m/R_32CZ1.zip\",\n",
    "                \"https://ns_hwh.fundaments.nl/hwh-ahn/ahn4/03a_DSM_0.5m/R_38EN2.zip\",\n",
    "                \"https://ns_hwh.fundaments.nl/hwh-ahn/ahn4/03a_DSM_0.5m/R_38FN1.zip\",\n",
    "                \"https://ns_hwh.fundaments.nl/hwh-ahn/ahn4/03a_DSM_0.5m/R_38FN2.zip\",\n",
    "                \"https://ns_hwh.fundaments.nl/hwh-ahn/ahn4/03a_DSM_0.5m/R_39AN1.zip\"]\n",
    "\n",
    "DTM_files = [\"https://ns_hwh.fundaments.nl/hwh-ahn/ahn4/02a_DTM_0.5m/M_31GN2.zip\",\n",
    "             \"https://ns_hwh.fundaments.nl/hwh-ahn/ahn4/02a_DTM_0.5m/M_31HN1.zip\",\n",
    "             \"https://ns_hwh.fundaments.nl/hwh-ahn/ahn4/02a_DTM_0.5m/M_31HN2.zip\",\n",
    "             \"https://ns_hwh.fundaments.nl/hwh-ahn/ahn4/02a_DTM_0.5m/M_32CN1.zip\",\n",
    "             \"https://ns_hwh.fundaments.nl/hwh-ahn/ahn4/02a_DTM_0.5m/M_31GZ2.zip\",\n",
    "             \"https://ns_hwh.fundaments.nl/hwh-ahn/ahn4/02a_DTM_0.5m/M_31HZ1.zip\",\n",
    "             \"https://ns_hwh.fundaments.nl/hwh-ahn/ahn4/02a_DTM_0.5m/M_31HZ2.zip\",\n",
    "             \"https://ns_hwh.fundaments.nl/hwh-ahn/ahn4/02a_DTM_0.5m/M_32CZ1.zip\",\n",
    "             \"https://ns_hwh.fundaments.nl/hwh-ahn/ahn4/02a_DTM_0.5m/M_38EN2.zip\",\n",
    "             \"https://ns_hwh.fundaments.nl/hwh-ahn/ahn4/02a_DTM_0.5m/M_38FN1.zip\",\n",
    "             \"https://ns_hwh.fundaments.nl/hwh-ahn/ahn4/02a_DTM_0.5m/M_38FN2.zip\",\n",
    "             \"https://ns_hwh.fundaments.nl/hwh-ahn/ahn4/02a_DTM_0.5m/M_39AN1.zip\"]"
   ]
  },
  {
   "cell_type": "code",
   "execution_count": 10,
   "id": "f6a5caed-bd8f-4a46-b52b-299f9309be65",
   "metadata": {},
   "outputs": [],
   "source": [
    "for DSM_file in tqdm(DSM_files):\n",
    "    download_tif(DSM_file, DSM_dir_path)"
   ]
  },
  {
   "cell_type": "code",
   "execution_count": 11,
   "id": "ded689af-be6c-4c82-b9eb-40bbb4e1dae2",
   "metadata": {},
   "outputs": [],
   "source": [
    "for DTM_file in tqdm(DTM_files):\n",
    "    download_tif(DTM_file, DTM_dir_path)"
   ]
  },
  {
   "cell_type": "code",
   "execution_count": null,
   "id": "8ba381e3-f717-44f0-89e9-0834214d3055",
   "metadata": {},
   "outputs": [],
   "source": []
  },
  {
   "cell_type": "code",
   "execution_count": null,
   "id": "81149d1d-c1c8-47a6-b273-187a2287be1e",
   "metadata": {},
   "outputs": [],
   "source": []
  },
  {
   "cell_type": "markdown",
   "id": "68908bf7-5d74-4c23-87a9-649f016d469d",
   "metadata": {},
   "source": [
    "### Create NDSM"
   ]
  },
  {
   "cell_type": "code",
   "execution_count": 12,
   "id": "1c79428b-35a3-41e9-8ccd-90f3eb9d1d04",
   "metadata": {},
   "outputs": [],
   "source": [
    "# Use glob to find all TIFF files in the directory\n",
    "tif_files = glob.glob(f\"{DTM_dir_path}/*.tif\")\n",
    "\n",
    "# Load each TIFF file\n",
    "DTMs = []\n",
    "for file_path in tif_files:\n",
    "    DTM = rioxarray.open_rasterio(file_path)\n",
    "    DTMs.append(DTM)"
   ]
  },
  {
   "cell_type": "code",
   "execution_count": 13,
   "id": "3901dd7b-4536-47d4-9e05-397f3b1b7f3c",
   "metadata": {},
   "outputs": [],
   "source": [
    "# Use glob to find all TIFF files in the directory\n",
    "tif_files = glob.glob(f\"{DSM_dir_path}/*.tif\")\n",
    "\n",
    "# Load each TIFF file\n",
    "DSMs = []\n",
    "for file_path in tif_files:\n",
    "    DSM = rioxarray.open_rasterio(file_path)\n",
    "    DSMs.append(DSM)"
   ]
  },
  {
   "cell_type": "code",
   "execution_count": 14,
   "id": "bdac15cf-2e5d-4d10-8d3e-eb2adcf06b1a",
   "metadata": {},
   "outputs": [],
   "source": [
    "# Merge all the raster datasets into one big raster\n",
    "merged_DTM = merge_arrays(DTMs)\n",
    "merged_DSM = merge_arrays(DSMs)"
   ]
  },
  {
   "cell_type": "code",
   "execution_count": 15,
   "id": "185ea823-252b-48b5-9eac-fbe0aa5b0dcf",
   "metadata": {},
   "outputs": [],
   "source": [
    "no_data_value = 30000\n",
    "\n",
    "merged_DTM = merged_DTM.where(merged_DTM < no_data_value, np.nan)\n",
    "merged_DSM = merged_DSM.where(merged_DSM < no_data_value, np.nan)"
   ]
  },
  {
   "cell_type": "code",
   "execution_count": 16,
   "id": "35048597-c2b0-4b48-8571-75ee6cfc80bd",
   "metadata": {},
   "outputs": [],
   "source": [
    "NDSM = merged_DSM - merged_DTM"
   ]
  },
  {
   "cell_type": "code",
   "execution_count": 17,
   "id": "aa9401a4-ca1d-4648-948f-3c87bad7060e",
   "metadata": {},
   "outputs": [],
   "source": [
    "del merged_DSM\n",
    "del merged_DTM"
   ]
  },
  {
   "cell_type": "markdown",
   "id": "562198bc-80f5-43f9-a4b2-c877f9f9aed1",
   "metadata": {},
   "source": [
    "### Write files with 4 bands"
   ]
  },
  {
   "cell_type": "code",
   "execution_count": null,
   "id": "c2a2043f-aa0a-434f-8af1-a8223d3cf1c3",
   "metadata": {},
   "outputs": [
    {
     "name": "stderr",
     "output_type": "stream",
     "text": [
      " 23%|█████████████████████████████████▏                                                                                                                | 15/66 [04:35<15:24, 18.12s/it]"
     ]
    }
   ],
   "source": [
    "rgb_files = glob.glob(\"nl_8cm/*.tif\")\n",
    "\n",
    "for rgb_file in tqdm(rgb_files):\n",
    "    # Load rgb file\n",
    "    rgb = rioxarray.open_rasterio(rgb_file)\n",
    "    bounds = rgb.rio.bounds()\n",
    "    # Slice rgb file outline from NDSM file\n",
    "    sub_NDSM = NDSM.rio.clip_box(minx=bounds[0], miny=bounds[1], maxx=bounds[2], maxy=bounds[3])\n",
    "    # Upsample to same resolution as RGB images\n",
    "    sub_NDSM = sub_NDSM.interp(y=rgb.y, x=rgb.x, method='nearest')\n",
    "    # Merge RGB with NDSM\n",
    "    combined = xarray.concat([rgb, sub_NDSM], dim='band')\n",
    "    # Write R,G,B,NDSM file\n",
    "    filename = rgb_file.split(\"\\\\\")[-1]  # Corrected: Escape the backslash or use a raw string if needed\n",
    "    combined.rio.to_raster(f\"RGB_NDSM/{filename}\")"
   ]
  },
  {
   "cell_type": "code",
   "execution_count": null,
   "id": "0ba80cb7-2e6d-45c7-b438-2dd1304939c1",
   "metadata": {},
   "outputs": [],
   "source": []
  }
 ],
 "metadata": {
  "kernelspec": {
   "display_name": "Python 3 (ipykernel)",
   "language": "python",
   "name": "python3"
  },
  "language_info": {
   "codemirror_mode": {
    "name": "ipython",
    "version": 3
   },
   "file_extension": ".py",
   "mimetype": "text/x-python",
   "name": "python",
   "nbconvert_exporter": "python",
   "pygments_lexer": "ipython3",
   "version": "3.11.5"
  }
 },
 "nbformat": 4,
 "nbformat_minor": 5
}
