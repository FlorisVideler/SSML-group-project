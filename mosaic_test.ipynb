{
 "cells": [
  {
   "cell_type": "markdown",
   "id": "36e1be31",
   "metadata": {},
   "source": [
    "# Mosaic test\n",
    "This notebook is used to test out cutting the larger complete map (made of large 1km * 1km mosaics) into smaller 500 * 500 pixel images.\n",
    "\n",
    "- 1 tile = 1km * 1km\n",
    "- 1 tile = 100.000cm * 100.000cm\n",
    "- 100.000cm * 100.000cm / 8 cm per pixel = 12500 px * 12500 px\n",
    "- (12500*12500)/(500*500) = 625\n",
    "- final = 625 tiles of 500 8 500 pixels"
   ]
  },
  {
   "cell_type": "markdown",
   "id": "5b60cacd",
   "metadata": {},
   "source": [
    "# Imports"
   ]
  },
  {
   "cell_type": "code",
   "execution_count": null,
   "id": "e43e2c9e",
   "metadata": {},
   "outputs": [],
   "source": [
    "import numpy as np\n",
    "import rasterio\n",
    "from rasterio.windows import Window\n",
    "\n",
    "import xarray as xr\n",
    "import xrspatial as xrs\n",
    "import rioxarray as rxr\n",
    "\n",
    "import stackstac as stc\n",
    "\n",
    "tile_dir = \"nl_8cm\"\n",
    "first_tile_dir = tile_dir + \"/2022_128000_453000_RGB_hrl.tif\""
   ]
  },
  {
   "cell_type": "markdown",
   "id": "2e394750",
   "metadata": {},
   "source": [
    "# Reshaping\n",
    "## Example of reshaping"
   ]
  },
  {
   "cell_type": "code",
   "execution_count": null,
   "id": "0335bd31",
   "metadata": {},
   "outputs": [],
   "source": [
    "fake_tile = np.ones((12500, 12500))"
   ]
  },
  {
   "cell_type": "code",
   "execution_count": null,
   "id": "3d8b355c",
   "metadata": {},
   "outputs": [],
   "source": [
    "# fake_tile.reshape((-1,500,500)).shape\n",
    "fake_tile.reshape((-1,500,500)).shape"
   ]
  },
  {
   "cell_type": "markdown",
   "id": "1182a941-c76e-4b41-bb7d-07b34c667b04",
   "metadata": {},
   "source": [
    "## Reading first tile"
   ]
  },
  {
   "cell_type": "code",
   "execution_count": null,
   "id": "20710977-cd08-4ebf-b492-af4c75fe6db9",
   "metadata": {},
   "outputs": [],
   "source": [
    "first_tile = rxr.open_rasterio(first_tile_dir)\n",
    "first_tile = first_tile.rio.reproject(\"EPSG:28992\")"
   ]
  },
  {
   "cell_type": "code",
   "execution_count": null,
   "id": "0531e613-4e70-475a-af63-80b87c56a7f5",
   "metadata": {},
   "outputs": [],
   "source": [
    "first_tile"
   ]
  },
  {
   "cell_type": "code",
   "execution_count": null,
   "id": "b3c3877b-6593-4afb-9922-f42075596456",
   "metadata": {},
   "outputs": [],
   "source": [
    "first_tile.plot.imshow()"
   ]
  },
  {
   "cell_type": "code",
   "execution_count": null,
   "id": "913adf44-d0c6-4d7a-ad79-3470cafb238c",
   "metadata": {},
   "outputs": [],
   "source": [
    "def mosaic_tile(tile_path, mosaic_size = 500):\n",
    "    # Open the larger aerial image\n",
    "    tile_name = tile_path.split(\"/\")[-1].split(\".tif\")[0]\n",
    "    with rasterio.open()  as src:\n",
    "        # Get dimensions of the larger image\n",
    "        height = src.height\n",
    "        width = src.width\n",
    "    \n",
    "        # Calculate number of smaller mosaics along x and y axes\n",
    "        num_tiles_x = width // mosaic_size\n",
    "        num_tiles_y = height // mosaic_size\n",
    "    \n",
    "        # Iterate over each smaller mosaic\n",
    "        for y in range(num_tiles_y):\n",
    "            for x in range(num_tiles_x):\n",
    "                # Define the window to read from\n",
    "                window = Window(x * mosaic_size, y * mosaic_size, mosaic_size, mosaic_size)\n",
    "    \n",
    "                # Read the data from the larger image\n",
    "                tile_data = src.read(window=window)\n",
    "    \n",
    "                # Define metadata for the smaller mosaic\n",
    "                meta = src.meta.copy()\n",
    "                meta['width'], meta['height'] = mosaic_size, mosaic_size\n",
    "                meta['transform'] = rasterio.windows.transform(window, src.transform)\n",
    "    \n",
    "                # Write the smaller mosaic to disk\n",
    "                with rasterio.open(f'mosaics/{tile_name}_{y}_{x}.tif', 'w', **meta) as dst:\n",
    "                    dst.write(tile_data)"
   ]
  },
  {
   "cell_type": "markdown",
   "id": "e577a15b-f32f-4d0c-abfb-ea9e51f469ab",
   "metadata": {},
   "source": [
    "# Reading all tiles & splitting\n"
   ]
  },
  {
   "cell_type": "code",
   "execution_count": null,
   "id": "76a265bc-8284-4171-a170-8a7d54776e00",
   "metadata": {},
   "outputs": [],
   "source": [
    "from glob import glob"
   ]
  },
  {
   "cell_type": "code",
   "execution_count": null,
   "id": "36610c48-e1f4-4276-9158-36969de02394",
   "metadata": {},
   "outputs": [],
   "source": [
    "data_array = []\n",
    "\n",
    "all_tiles = glob(tile_dir + \"/2022*\")\n",
    "all_tiles[:10]"
   ]
  },
  {
   "cell_type": "code",
   "execution_count": null,
   "id": "17e86f44-0eaa-4ce8-9228-c73ab738e2e0",
   "metadata": {},
   "outputs": [],
   "source": [
    "[path.split(\"/\")[-1].split(\".tif\")[0] for path in all_tiles]"
   ]
  },
  {
   "cell_type": "code",
   "execution_count": null,
   "id": "54a9bb69-bf91-4ecd-8f45-10d17f8fe9f0",
   "metadata": {},
   "outputs": [],
   "source": [
    "for tile_path in alltiles:\n",
    "    mosaic_tile(tile_path)"
   ]
  }
 ],
 "metadata": {
  "kernelspec": {
   "display_name": "Python 3 (ipykernel)",
   "language": "python",
   "name": "python3"
  },
  "language_info": {
   "codemirror_mode": {
    "name": "ipython",
    "version": 3
   },
   "file_extension": ".py",
   "mimetype": "text/x-python",
   "name": "python",
   "nbconvert_exporter": "python",
   "pygments_lexer": "ipython3",
   "version": "3.11.7"
  }
 },
 "nbformat": 4,
 "nbformat_minor": 5
}
