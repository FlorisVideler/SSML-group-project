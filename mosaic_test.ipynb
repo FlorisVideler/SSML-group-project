{
 "cells": [
  {
   "cell_type": "markdown",
   "id": "36e1be31",
   "metadata": {},
   "source": [
    "# Mosaic test\n",
    "This notebook is used to test out cutting the larger complete map (made of large 1km * 1km mosaics) into smaller 500 * 500 pixel images.\n",
    "\n",
    "- 1 tile = 1km * 1km\n",
    "- 1 tile = 100.000cm * 100.000cm\n",
    "- 100.000cm * 100.000cm / 8 cm per pixel = 12500 px * 12500 px\n",
    "- (12500*12500)/(500*500) = 625\n",
    "- final = 625 tiles of 500 8 500 pixels"
   ]
  },
  {
   "cell_type": "markdown",
   "id": "5b60cacd",
   "metadata": {},
   "source": [
    "# Imports"
   ]
  },
  {
   "cell_type": "code",
   "execution_count": null,
   "id": "e43e2c9e",
   "metadata": {},
   "outputs": [],
   "source": [
    "import numpy as np\n",
    "import xarray as xr\n",
    "import xrspatial as xrs\n",
    "import rioxarray as rxr\n",
    "\n",
    "import stackstac as stc\n",
    "\n",
    "tile_dir = \"nl_8cm\"\n",
    "first_tile_dir = tile_dir + \"/2022_128000_453000_RGB_hrl.tif\""
   ]
  },
  {
   "cell_type": "markdown",
   "id": "2e394750",
   "metadata": {},
   "source": [
    "# Reshaping\n",
    "## Example of reshaping"
   ]
  },
  {
   "cell_type": "code",
   "execution_count": null,
   "id": "0335bd31",
   "metadata": {},
   "outputs": [],
   "source": [
    "fake_tile = np.ones((12500, 12500))"
   ]
  },
  {
   "cell_type": "code",
   "execution_count": null,
   "id": "3d8b355c",
   "metadata": {},
   "outputs": [],
   "source": [
    "fake_tile.reshape((-1,500,500)).shape"
   ]
  },
  {
   "cell_type": "markdown",
   "id": "1182a941-c76e-4b41-bb7d-07b34c667b04",
   "metadata": {},
   "source": [
    "## Reading first tile"
   ]
  },
  {
   "cell_type": "code",
   "execution_count": null,
   "id": "20710977-cd08-4ebf-b492-af4c75fe6db9",
   "metadata": {},
   "outputs": [],
   "source": [
    "first_tile = rxr.open_rasterio(first_tile_dir)\n",
    "first_tile = first_tile.rio.reproject(\"EPSG:28992\")"
   ]
  },
  {
   "cell_type": "code",
   "execution_count": null,
   "id": "0531e613-4e70-475a-af63-80b87c56a7f5",
   "metadata": {},
   "outputs": [],
   "source": [
    "first_tile"
   ]
  },
  {
   "cell_type": "code",
   "execution_count": null,
   "id": "b284271c-dfa2-4f9c-b72e-a85637e6771e",
   "metadata": {},
   "outputs": [],
   "source": [
    "mos = first_tile.coarsen(x=500, y=500).construct(\n",
    "    x=(\"x_mosaic\", \"x\"), y=(\"y_mosaic\", \"y\")\n",
    ")"
   ]
  },
  {
   "cell_type": "code",
   "execution_count": null,
   "id": "b3c3877b-6593-4afb-9922-f42075596456",
   "metadata": {},
   "outputs": [],
   "source": [
    "first_tile.plot.imshow()"
   ]
  },
  {
   "cell_type": "code",
   "execution_count": null,
   "id": "04faf594-8f1e-4df3-8faf-cef0e867e992",
   "metadata": {},
   "outputs": [],
   "source": []
  }
 ],
 "metadata": {
  "kernelspec": {
   "display_name": "Python 3 (ipykernel)",
   "language": "python",
   "name": "python3"
  },
  "language_info": {
   "codemirror_mode": {
    "name": "ipython",
    "version": 3
   },
   "file_extension": ".py",
   "mimetype": "text/x-python",
   "name": "python",
   "nbconvert_exporter": "python",
   "pygments_lexer": "ipython3",
   "version": "3.11.7"
  }
 },
 "nbformat": 4,
 "nbformat_minor": 5
}
